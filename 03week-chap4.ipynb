{
 "cells": [
  {
   "cell_type": "code",
   "execution_count": 1,
   "metadata": {},
   "outputs": [
    {
     "data": {
      "text/plain": [
       "'\\nmysql -u root -p\\nCREATE USER \\'dsuser\\'@\\'localhost\\' IDENTIFIED BY \\'badpassw0rd\\';\\nCREATE DATABASE dsdb;\\nGRANT ALL ON dsdb.* TO \\'dsuser\\'@\\'localhost\\';\\nmysql -u dsuser -p dsdb\\n---------------------------------------\\nUSE dsdb;\\nCREATE TABLE employee (empname TINYTEXT, salary FLOAT, hired DATE);\\n---------------------------------------\\nDROP TABLE employee;\\n---------------------------------------\\nCREATE TABLE employee (id INT PRIMARY KEY AUTO_INCREMENT,\\nupdated TIMESTAMP, empname TINYTEXT NOT NULL, salary FLOAT NOT NULL, hired DATE);\\n---------------------------------------\\nALTER TABLE employee ADD INDEX(hired);\\n---------------------------------------\\nINSERT INTO employee VALUES(NULL,NULL,\"John Smith\",35000,NOW());\\nSHOW WARNINGS;\\nINSERT INTO employee VALUES(NULL,NULL,\"John Smith\",35000,NOW());\\nINSERT IGNORE INTO employee VALUES(NULL,NULL,\"John Smith\",35000,NOW());\\n---------------------------------------\\n-- 모든 최근 입사자의 임금을 리셋한다.\\nUPDATE employee SET salary=35000 WHERE hired=CURDATE();\\n-- John Smith의 임금을 인상한다.\\nUPDATE employee SET salary=salary+1000 WHERE empname=\"John Smith\";\\n---------------------------------------\\nSELECT empname,salary FROM employee WHERE empname=\"John Smith\";\\nSELECT empname,salary FROM employee;\\nSELECT*FROM employee WHERE hired>= \\'2000-01-01\\' ORDER BY salary DESC;\\n---------------------------------------\\nSELECT(hired>\\'2001-01-01\\') AS Recent, AVG (salary) FROM employee\\nGROUP BY (hired>\\'2001-01-01\\');\\n---------------------------------------\\nSELECT AVG(salary),MIN(hired),MAX(hired) FROM employee\\nGROUP BY YEAR(hired)\\nHAVING MIN(hired)>\\'2001-01-01\\';\\n---------------------------------------\\n-- 테이블을 만들고 자료를 재워 넣는다.\\nCREATE TABLE position (eid INT, description TEXT);\\nINSERT INTO position (eid,description) VALUES (6,\\'Imposter\\'),\\n  (1,\\'Accountant\\'),(4,\\'Programmer\\'),(5,\\'President\\');\\nALTER TABLE position ADD INDEX(eid);\\n-- 결합한 데이터를 불러온다.\\nSELECT employee.empname,position.description\\nFROM employee,position WHERE employee.id=position.eid\\nORDER BY position.description;\\n---------------------------------------\\n'"
      ]
     },
     "execution_count": 1,
     "metadata": {},
     "output_type": "execute_result"
    }
   ],
   "source": [
    "# 4장\n",
    "\"\"\"\n",
    "mysql -u root -p\n",
    "CREATE USER 'dsuser'@'localhost' IDENTIFIED BY 'badpassw0rd';\n",
    "CREATE DATABASE dsdb;\n",
    "GRANT ALL ON dsdb.* TO 'dsuser'@'localhost';\n",
    "mysql -u dsuser -p dsdb\n",
    "---------------------------------------\n",
    "USE dsdb;\n",
    "CREATE TABLE employee (empname TINYTEXT, salary FLOAT, hired DATE);\n",
    "---------------------------------------\n",
    "DROP TABLE employee;\n",
    "---------------------------------------\n",
    "CREATE TABLE employee (id INT PRIMARY KEY AUTO_INCREMENT,\n",
    "updated TIMESTAMP, empname TINYTEXT NOT NULL, salary FLOAT NOT NULL, hired DATE);\n",
    "---------------------------------------\n",
    "ALTER TABLE employee ADD INDEX(hired);\n",
    "---------------------------------------\n",
    "INSERT INTO employee VALUES(NULL,NULL,\"John Smith\",35000,NOW());\n",
    "SHOW WARNINGS;\n",
    "INSERT INTO employee VALUES(NULL,NULL,\"John Smith\",35000,NOW());\n",
    "INSERT IGNORE INTO employee VALUES(NULL,NULL,\"John Smith\",35000,NOW());\n",
    "---------------------------------------\n",
    "-- 모든 최근 입사자의 임금을 리셋한다.\n",
    "UPDATE employee SET salary=35000 WHERE hired=CURDATE();\n",
    "-- John Smith의 임금을 인상한다.\n",
    "UPDATE employee SET salary=salary+1000 WHERE empname=\"John Smith\";\n",
    "---------------------------------------\n",
    "SELECT empname,salary FROM employee WHERE empname=\"John Smith\";\n",
    "SELECT empname,salary FROM employee;\n",
    "SELECT*FROM employee WHERE hired>= '2000-01-01' ORDER BY salary DESC;\n",
    "---------------------------------------\n",
    "SELECT(hired>'2001-01-01') AS Recent, AVG (salary) FROM employee\n",
    "GROUP BY (hired>'2001-01-01');\n",
    "---------------------------------------\n",
    "SELECT AVG(salary),MIN(hired),MAX(hired) FROM employee\n",
    "GROUP BY YEAR(hired)\n",
    "HAVING MIN(hired)>'2001-01-01';\n",
    "---------------------------------------\n",
    "-- 테이블을 만들고 자료를 재워 넣는다.\n",
    "CREATE TABLE position (eid INT, description TEXT);\n",
    "INSERT INTO position (eid,description) VALUES (6,'Imposter'),\n",
    "  (1,'Accountant'),(4,'Programmer'),(5,'President');\n",
    "ALTER TABLE position ADD INDEX(eid);\n",
    "-- 결합한 데이터를 불러온다.\n",
    "SELECT employee.empname,position.description\n",
    "FROM employee,position WHERE employee.id=position.eid\n",
    "ORDER BY position.description;\n",
    "---------------------------------------\n",
    "\"\"\""
   ]
  },
  {
   "cell_type": "code",
   "execution_count": 2,
   "metadata": {},
   "outputs": [
    {
     "data": {
      "text/plain": [
       "[('Olympic Champions',),\n",
       " ('골프 바이블',),\n",
       " ('스포츠과학',),\n",
       " ('야구를 부탁해',),\n",
       " ('야구의 추억',),\n",
       " ('역도 단계별기술',),\n",
       " ('올림픽 이야기',),\n",
       " ('축구아는 여자',),\n",
       " ('축구의 역사',),\n",
       " ('축구의 이해',),\n",
       " ('피겨 교본',)]"
      ]
     },
     "execution_count": 2,
     "metadata": {},
     "output_type": "execute_result"
    }
   ],
   "source": [
    "import pymysql # mysql database test\n",
    "conn = pymysql.connect(host=\"localhost\", port=3306,\n",
    "  user=\"madang\", passwd=\"madang\", db=\"madang\")\n",
    "cur = conn.cursor()\n",
    "#---------------------------------------\n",
    "query = '''\n",
    "SELECT bookname\n",
    "FROM book\n",
    "ORDER BY bookname\n",
    "'''\n",
    "n_rows = cur.execute(query)\n",
    "#---------------------------------------\n",
    "results = list(cur.fetchall())\n",
    "results\n",
    "#---------------------------------------"
   ]
  },
  {
   "cell_type": "code",
   "execution_count": 3,
   "metadata": {},
   "outputs": [
    {
     "ename": "NameError",
     "evalue": "name 'people' is not defined",
     "output_type": "error",
     "traceback": [
      "\u001b[1;31m---------------------------------------------------------------------------\u001b[0m",
      "\u001b[1;31mNameError\u001b[0m                                 Traceback (most recent call last)",
      "\u001b[1;32m<ipython-input-3-97f91db8ff92>\u001b[0m in \u001b[0;36m<module>\u001b[1;34m\u001b[0m\n\u001b[0;32m      9\u001b[0m \u001b[0mperson1\u001b[0m \u001b[1;33m=\u001b[0m \u001b[1;33m{\u001b[0m\u001b[1;34m\"empname\"\u001b[0m \u001b[1;33m:\u001b[0m \u001b[1;34m\"John Smith\"\u001b[0m\u001b[1;33m,\u001b[0m \u001b[1;34m\"dob\"\u001b[0m \u001b[1;33m:\u001b[0m \u001b[1;34m\"1957-12-24\"\u001b[0m\u001b[1;33m}\u001b[0m\u001b[1;33m\u001b[0m\u001b[1;33m\u001b[0m\u001b[0m\n\u001b[0;32m     10\u001b[0m \u001b[0mperson2\u001b[0m \u001b[1;33m=\u001b[0m \u001b[1;33m{\u001b[0m\u001b[1;34m\"_id\"\u001b[0m \u001b[1;33m:\u001b[0m \u001b[1;34m\"XVT162\"\u001b[0m\u001b[1;33m,\u001b[0m \u001b[1;34m\"empname\"\u001b[0m \u001b[1;33m:\u001b[0m \u001b[1;34m\"Jane Doe\"\u001b[0m\u001b[1;33m,\u001b[0m \u001b[1;34m\"dob\"\u001b[0m \u001b[1;33m:\u001b[0m \u001b[1;34m\"1964-05-16\"\u001b[0m\u001b[1;33m}\u001b[0m\u001b[1;33m\u001b[0m\u001b[1;33m\u001b[0m\u001b[0m\n\u001b[1;32m---> 11\u001b[1;33m \u001b[0mperson_id1\u001b[0m \u001b[1;33m=\u001b[0m \u001b[0mpeople\u001b[0m\u001b[1;33m.\u001b[0m\u001b[0minsert_one\u001b[0m\u001b[1;33m(\u001b[0m\u001b[0mperson1\u001b[0m\u001b[1;33m)\u001b[0m\u001b[1;33m.\u001b[0m\u001b[0minserted_id\u001b[0m\u001b[1;33m\u001b[0m\u001b[1;33m\u001b[0m\u001b[0m\n\u001b[0m\u001b[0;32m     12\u001b[0m \u001b[0mperson_id1\u001b[0m\u001b[1;33m\u001b[0m\u001b[1;33m\u001b[0m\u001b[0m\n\u001b[0;32m     13\u001b[0m \u001b[1;31m#---------------------------------------\u001b[0m\u001b[1;33m\u001b[0m\u001b[1;33m\u001b[0m\u001b[1;33m\u001b[0m\u001b[0m\n",
      "\u001b[1;31mNameError\u001b[0m: name 'people' is not defined"
     ]
    }
   ],
   "source": [
    "import pymongo as mongo # mongo database 테스트\n",
    "# 기본 클라이언트 설정\n",
    "client1 = mongo.MongoClient()\n",
    "# 호스트와 포트를 지정\n",
    "client2 = mongo.MongoClient(\"localhost\", 27017)\n",
    "# URL로 호스트와 포트를 지정\n",
    "client3 = mongo.MongoClient(\"mongodb://localhost:27017/\")\n",
    "#---------------------------------------\n",
    "person1 = {\"empname\" : \"John Smith\", \"dob\" : \"1957-12-24\"}\n",
    "person2 = {\"_id\" : \"XVT162\", \"empname\" : \"Jane Doe\", \"dob\" : \"1964-05-16\"}\n",
    "person_id1 = people.insert_one(person1).inserted_id\n",
    "person_id1\n",
    "#---------------------------------------\n",
    "# 새로운 “_id” 필드가 생겼다!\n",
    "person1\n",
    "#---------------------------------------\n",
    "#  _id 키를 명확히 지정했으므로 키가 자동 생성되지 않는다.\n",
    "person_id2 = people.insert_one(person2).inserted_id\n",
    "person_id2\n",
    "#---------------------------------------\n",
    "persons = [{\"empname\" : \"Abe Lincoln\", \"dob\" : \"1809-02-12\"}, {\"empname\" : \"Anon I. Muss\"}]\n",
    "result = people.insert_many(persons)\n",
    "result.inserted_ids\n",
    "#---------------------------------------\n",
    "everyone = people.find()\n",
    "list(everyone)\n",
    "#---------------------------------------\n",
    "list(people.find({\"dob\" : \"1957-12-24\"}))\n",
    "#---------------------------------------\n",
    "people.find_one()\n",
    "people.find_one({\"empname\" : \"Abe Lincyoln\"}) \n",
    "people.find_one({\"_id\" : \"XVT162\"})\n",
    "#---------------------------------------\n",
    "people.count()\n",
    "people.find({\"dob\": \"1957-12-24\"}).count()\n",
    "people.find().sort(\"dob\")\n",
    "result = people.delete_many({\"dob\" : \"1957-12-24\"}) \n",
    "result.deleted_count"
   ]
  },
  {
   "cell_type": "code",
   "execution_count": null,
   "metadata": {},
   "outputs": [],
   "source": []
  }
 ],
 "metadata": {
  "kernelspec": {
   "display_name": "Python 3",
   "language": "python",
   "name": "python3"
  },
  "language_info": {
   "codemirror_mode": {
    "name": "ipython",
    "version": 3
   },
   "file_extension": ".py",
   "mimetype": "text/x-python",
   "name": "python",
   "nbconvert_exporter": "python",
   "pygments_lexer": "ipython3",
   "version": "3.7.4"
  }
 },
 "nbformat": 4,
 "nbformat_minor": 2
}
