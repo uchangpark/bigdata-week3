{
 "cells": [
  {
   "cell_type": "code",
   "execution_count": 1,
   "metadata": {},
   "outputs": [
    {
     "name": "stdout",
     "output_type": "stream",
     "text": [
      "False\n",
      "True\n",
      "False\n",
      "True\n"
     ]
    }
   ],
   "source": [
    "# 파이썬 기초 점프투파이썬 => https://wikidocs.net/book/1\n",
    "# 파이썬 고급 => https://wikidocs.net/9499\n",
    "\n",
    "\n",
    "# 2장 => https://wikidocs.net/9499\n",
    "# unit4 문자열 => https://wikidocs.net/13\n",
    "a='HAPPY'\n",
    "print(a.islower()); print(a.isupper()); print(a.isdigit()); print(a.isalpha());"
   ]
  },
  {
   "cell_type": "code",
   "execution_count": 2,
   "metadata": {},
   "outputs": [
    {
     "name": "stdout",
     "output_type": "stream",
     "text": [
      "Hello, world! \t\t\n",
      "\n",
      "Hello, world!\n",
      "['Hello,', 'world!']\n",
      "['www', 'networksciencelab', 'com']\n",
      "alpha, bravo, charlie, delta\n",
      "1-617-305-1985\n",
      "This string has many spaces\n",
      "21\n",
      "2\n"
     ]
    }
   ],
   "source": [
    "mystr=\"Hello, world! \\t\\t\\n\"\n",
    "print(mystr)\n",
    "print(mystr.strip()) # 공백제거\n",
    "mystr=\"Hello,  world! \\t\\t\\n\"\n",
    "print(mystr.split())    # 단어분리...Hello,와 world! 사이에 공백이 2개 있다.\n",
    "mystr=\"www.networksciencelab.com\"\n",
    "print(mystr.split(\".\"))\n",
    "mystr=\", \".join([\"alpha\", \"bravo\", \"charlie\", \"delta\"]) # 리스트를 연결\n",
    "print(mystr)\n",
    "mystr=\"-\".join(\"1.617.305.1985\".split(\".\"))\n",
    "print(mystr)\n",
    "mystr=\" \".join(\"This string\\n\\r has many\\t\\tspaces\".split())\n",
    "print(mystr)\n",
    "mystr=\"www.networksciencelab.com\"\n",
    "print(mystr.find(\".com\")) # 문자열 찾기\n",
    "print(mystr.count(\".\")) # 문자열 빈도세기\n",
    "##---------------------------------------"
   ]
  },
  {
   "cell_type": "code",
   "execution_count": 3,
   "metadata": {},
   "outputs": [
    {
     "name": "stdout",
     "output_type": "stream",
     "text": [
      "[1, 3, 5, 9]\n",
      "[1, 9, 25, 9, 36, 81]\n"
     ]
    }
   ],
   "source": [
    "# unit 6 리스트 다루기 => https://wikidocs.net/14\n",
    "myList=[1,3, 5, -3, -6, 9]\n",
    "yourList=[x for x in myList if x >=0 ]\n",
    "print(yourList)\n",
    "yourList=[x**2 for x in myList]\n",
    "print(yourList)"
   ]
  },
  {
   "cell_type": "code",
   "execution_count": 4,
   "metadata": {},
   "outputs": [
    {
     "name": "stdout",
     "output_type": "stream",
     "text": [
      "find in list=> 0.19951772689819336\n",
      "find in set=> 0.11564016342163086\n"
     ]
    }
   ],
   "source": [
    "# unit4 자료구조 => List, Set, Dictionary\n",
    "# 참고 dictionary : => https://wikidocs.net/16\n",
    "import time\n",
    "start=time.time()\n",
    "bigList=[str(i) for i in range(1000000)]\n",
    "'abc' in bigList\n",
    "end=time.time()\n",
    "print('find in list=>', end-start)\n",
    "start=time.time()\n",
    "bigSet=set(bigList)\n",
    "'abc' in bigSet\n",
    "end=time.time()\n",
    "print('find in set=>', end-start)"
   ]
  },
  {
   "cell_type": "code",
   "execution_count": 5,
   "metadata": {},
   "outputs": [
    {
     "name": "stdout",
     "output_type": "stream",
     "text": [
      "{0: 'alpha', 1: 'bravo', 2: 'charlie', 3: 'delta'}\n",
      "charlie\n",
      "{'a': 'alpha', 'b': 'bravo', 'c': 'charlie', 'd': 'delta'}\n"
     ]
    }
   ],
   "source": [
    "# dictionary\n",
    "seq = [\"alpha\", \"bravo\", \"charlie\", \"delta\"]\n",
    "mydict=dict(enumerate(seq))\n",
    "print(mydict)\n",
    "print(mydict[2])\n",
    "#---------------------------------------\n",
    "kseq = \"abcd\" # 문자열 또한, 순서열이다.\n",
    "vseq = [\"alpha\", \"bravo\", \"charlie\", \"delta\"]\n",
    "yourdict=dict(zip(kseq, vseq))\n",
    "print(yourdict)\n",
    "#---------------------------------------"
   ]
  },
  {
   "cell_type": "code",
   "execution_count": 6,
   "metadata": {},
   "outputs": [
    {
     "name": "stdout",
     "output_type": "stream",
     "text": [
      "cntr=> Counter({'a': 3, 'man': 1, 'plan': 1, 'canal': 1, 'panama': 1})\n",
      "cntr most_commons=> [('a', 3), ('man', 1), ('plan', 1), ('canal', 1), ('panama', 1)]\n",
      "{'a': 3, 'man': 1, 'plan': 1, 'canal': 1, 'panama': 1}\n",
      "3\n"
     ]
    }
   ],
   "source": [
    "from collections import Counter\n",
    "phrase = \"a man a plan a canal panama\"\n",
    "cntr = Counter(phrase.split())\n",
    "print('cntr=>',cntr)\n",
    "print('cntr most_commons=>',cntr.most_common())\n",
    "#---------------------------------------\n",
    "cntrDict = dict(cntr.most_common())\n",
    "print(cntrDict)\n",
    "print(cntrDict['a'])\n",
    "#---------------------------------------"
   ]
  },
  {
   "cell_type": "code",
   "execution_count": 7,
   "metadata": {},
   "outputs": [
    {
     "name": "stdout",
     "output_type": "stream",
     "text": [
      "test file\n",
      "Hello World\n",
      "test file\n",
      "Hello World\n",
      "test file\n",
      "\n",
      "Hello World\n"
     ]
    }
   ],
   "source": [
    "# unit8 파일다루기 => https://wikidocs.net/23\n",
    "f=open('test.txt')\n",
    "myFile=f.read()\n",
    "print(myFile)\n",
    "f.close()\n",
    "f=open('test.txt')\n",
    "line=f.readline()\n",
    "print(myFile)\n",
    "f.close()\n",
    "f=open('test.txt')\n",
    "lines=f.readlines()\n",
    "for line in lines:\n",
    "    print(line)\n",
    "f.close()"
   ]
  },
  {
   "cell_type": "code",
   "execution_count": 8,
   "metadata": {},
   "outputs": [
    {
     "name": "stdout",
     "output_type": "stream",
     "text": [
      "b'<html>\\n<head>\\n<title>My Little Network Science Lab</title>\\n<link rel=\"stylesheet\" type=\"text/css\" href=\"style.css\">\\n<meta charset=\"UTF-8\">\\n</head>\\n\\n<body>\\n<h1>My Little Network Science Lab</h1>\\n<h2>By Dmitry Zinoviev</h2>\\n\\n<p>\\n  <table class=hdr><tr><td><h3 class=\"nomargin\">Books</h3></table>\\n  <p>\\n<a href=\"https://pragprog.com/book/dzpyds/data-science-essentials-in-python\"><img src=\"https://imagery.pragprog.com/products/490/dzpyds_xlargecover.jpg?1468006361\" border=1 align=left></a>\\n<a href=\"https://pragprog.com/book/dzcnapy/complex-network-analysis-in-python\"><img src=\"https://imagery.pragprog.com/products/541/dzcnapy_xlargecover.jpg?1508250011\" border=1 align=left></a>\\n\\n\\nI am excited to announce my books, \"Data Science Essentials in Python. Collect \\xe2\\x86\\x92  Organize \\xe2\\x86\\x92  Explore \\xe2\\x86\\x92  Predict \\xe2\\x86\\x92  Value\" (a.k.a. DZPYDS) and \"Complex Network Analysis in Python. Recognize \\xe2\\x86\\x92 Construct \\xe2\\x86\\x92 Visualize \\xe2\\x86\\x92 Analyze \\xe2\\x86\\x92 Interpret\" (a.k.a. DZCNAPY), published by the Pragmatic Bookshelf.\\n<p>\\nThe <b>first book</b> is intended for seasoned data scientists and statisticians migrating from R to Python, as well as for beginners willing to learn elements of data science in Python.\\n<p>\\nThe book leads you from messy, unstructured artifacts stored in SQL and NoSQL databases to a neat, well-organized dataset. It covers text mining, machine learning, and network analysis; processing numeric data with the NumPy and Pandas modules; and describing and analyzing data using statistical and network-theoretical methods. It has actual examples of data analysis at work, as well as mini-projects for you to enjoy. \\n<p>\\n  The <b>second book</b> shows how, starting with simple networks, one can convert real-life and synthetic network graphs into Networkx data structures. The reader will look at more sophisticated networks and learn more powerful machinery to handle centrality calculation, blockmodeling, and clique and community detection. Get familiar with presentation-quality network visualization tools, both programmable and interactive--such as Gephi, a CNA explorer. The reader will  adapt the patterns from the case studies to your problems, explore big networks with NetworKit, a high-performance networkx substitute. Each part in the book gives an overview of a class of networks, includes a practical study of networkx functions and techniques, and concludes with case studies from various fields, including social networking, anthropology, marketing, and sports analytics.\\n<p>\\n  \\nThe books are available for purchase at the publisher\\'s site, and on Amazon (<a href=\"https://www.amazon.com/gp/product/1680501844\">DZPYDS</a>, <a href=\"https://www.amazon.com/gp/product/1680502697\">DZCNAPY</a>).\\n<p>\\n<table class=hdr><tr><td><h3 class=\"nomargin\">Presentations</h3></table>\\n<ul>\\n<li><a href=\"http://www.slideshare.net/DmitryZinoviev/networks-of-music-groups-as-success-predictors\">Networks of Music Groups as Success Predictors</a> - Social networks, digital humanities\\n<li><a href=\"http://www.slideshare.net/DmitryZinoviev/workshop-20212296\">Network Science Workshop</a> - General networks\\n<li><a href=\"http://www.slideshare.net/DmitryZinoviev/resilience-in-transactional-networks\">Resilience in Transaction-Oriented Networks</a> - Communication networks\\n<li><a href=\"http://www.slideshare.net/DmitryZinoviev/peer-ratings-in-massive-online-social-networks\">Peer Ratings in Massive Online Social Networks</a> - Social networks\\n<li><a href=\"http://www.slideshare.net/DmitryZinoviev/presentation-31680572\">Semantic Networks of Interests in Online NSSI Communities</a> - Semantic networks\\n<li><a href=\"http://www.slideshare.net/DmitryZinoviev/10-monthsymposiumbeta\">Towards an Ideal Store</a> - Product networks\\n</ul>\\n<table class=hdr><tr><td><h3 class=\"nomargin\">Publications</h3></table>\\n<ul>\\n<li><a href=\"https://media.pragprog.com/newsletters/2016-04-06.html\">D.Zinoviev, \"Analyzing Cultural Domains with Python,\"</a> <i>PragPub</i>, 82, pp. 26-33, Apr 2016\\n<li><a href=\"http://dhj.sagepub.com/content/2/2055207616642118.full\">D. Zinoviev, D. Stefanescu, G. Fireman, and L. Swenson, \"Semantic networks of interests in online non-suicidal self-injury communities,\"</a> <i>Digital Health</i>, doi:10.1177/2055207616642118, SAGE, Apr 2016\\n<li><a href=\"http://www.mitpressjournals.org/doi/abs/10.1162/LEON_a_01271#.VzOvwHUrKzc\">D.Zinoviev, \"The Pain of Complexity,\"</a>, <i>Leonardo</i>, 2016\\n<li><a href=\"http://link.springer.com/chapter/10.1007/978-3-319-16112-9_18\">D.Zinoviev, Z.Zhu, and K.Li, \"Building mini-categories in product networks,\"</a> in <i>Studies in Computational Intelligence</i>, vol. 597, pp. 179-190, Springer, Mar 2015\\n<li><a href=\"http://arxiv.org/abs/1409.6771\">D.Zinoviev, H.Benbrahim, G.Meszoely, and D.Stefanescu, \"Mitigation of delayed management costs in transaction-oriented systems,\"</a> Sep 2014\\n<li><a href=\"http://dl.acm.org/citation.cfm?id=2499974\">D.Zinoviev, H.Benbrahim, G.Meszoely, and D.Stefanescu, \"Simulating resilience in transaction-oriented networks,\"</a> in <i>Proc. Spring Simulation Multi-Conference</i>, (San Diego, CA), Apr. 2013\\n<li><a href=\"http://arxiv.org/abs/1206.5520\">D.Zinoviev, D.Stefanescu, L.Swenson, and G.Fireman, \"Semantic networks of interests in online NSSI communities,\"</a> in <i>Proc. Workshop \"Words and Networks\"</i> (Evanston, IL), June 2012\\n<li><a href=\"http://arxiv.org/abs/1401.6964\">D.Zinoviev and S.Llewelyn, \"Co-Evolution of Friendship and Publishing in Online Blogging Social Networks,\"</a> <i>WebSci-2012</i> (poster)\\n<li><a href=\"http://dl.acm.org/citation.cfm?id=2208181\">D.Zinoviev, \"Information diffusion in social networks,\"</a> in <i>Social Networking and Community Behavior Modeling: Qualitative and Quantitative Measures</i> (M.\\xc2\\xa0Safar, ed.), Hershey, PA: IGI Global, Dec. 2011\\n<li><a href=\"http://dl.acm.org/citation.cfm?id=2048377\">D.Zinoviev and V.Duong, \"A game theoretical approach to broadcast  information diffusion in social networks,\"</a> 6. in <i>Proc. 44th Annual Simulation Symp.</i>, (Boston, MA), pp. 47-52, Apr. 2011\\n<li><a href=\"http://dl.acm.org/citation.cfm?id=1999462\">D.Zinoviev and V.Duong, \"A game theoretical approach to modeling full-duplex information dissemination,\"</a> in <i>Proc. Summer Simulation Multi-Conference</i>, (Ottawa, Canada), pp. 358-363, July 2010\\n<li><a href=\"http://arxiv.org/abs/1006.5493\">D.Zinoviev, V.Duong, and H.Zhang, \"A game theoretical approach to modeling information dissemination in social networks,\"</a> in <i>Proc. Int. Multi-Conference on Complexity, Informatics and Cybernetics</i>, vol. I, pp. 407-412, IIIS, Apr. 2010\\n<li><a href=\"http://arxiv.org/abs/0902.4658\">D.Zinoviev and V.Duong, \"Toward Understanding Friendship in Online Social Networks,\"</a> <i>The Intl J. of Technology, Knowledge, and Society</i>, pp. 1-8, May 2009\\n<li><a href=\"http://arxiv.org/abs/0807.3996\">D.Zinoviev, \"Topology and Geometry of Online Social Networks,\"</a> in <i>Proc. 12th World Multi-Conference on Systemics, Cybernetics and Informatics</i>, vol. VI, pp. 138-143, 2008\\n</ul>\\n\\n<table class=hdr><tr><td><h3 class=\"nomargin\">Other Projects</h3></table>\\n<ul>\\n<li><a href=\"/vixi/html5/\">Vixi: The Game of Meaning</a>, produced in collaboration with <a href=\"http://meaningoflife.cherkasova.org/\">Evgenia Cherkasova</a> from Philosophy Department.\\n<li><a href=\"v2.jpg\">All Characters from War and Peace by L.Tolstoy</a>\\n<li><a href=\"bible-networks.pdf\">Mapping the Bible: Social Networks in the Holy Book</a>. A book of graphs.\\n<li><a href=\"wc2014.gif\">FIFA World Cup 2014: Who Beat Whom?</a>\\n<li><a href=\"facebook_spread.gif\">The seed post \"9 American habits I lost when I moved to Germany\" and its 125 \"likes\" and \"shares\" on Facebook</a>. Nodes represent Facebook users, node sizes - number of friends/followers. Two nodes are connected if they are friends/followers and both reacted to the seed post. Red nodes denote shares. The post was originally published at the yellow node.\\n</ul>\\n\\n<table class=hdr><tr><td><h3 class=\"nomargin\">Contacts</h3></table>\\n<ul>\\n  <li><a href=\"mailto:dzinoviev@suffolk.edu\">Email</a>\\n<li><a href=\"https://www.suffolk.edu/academics/faculty/z/i/dmitry-zinoviev\">Suffolk University</a>\\n<li><a href=\"https://scholar.google.com/citations?hl=en&user=j5GjuIkAAAAJ&sortby=pubdate&view_op=list_works&pagesize=100\">Google Scholar</a>\\n<li><a href=\"https://www.linkedin.com/pub/dmitry-zinoviev/4/a78/27b\">LinkedIn</a>\\n<li><a href=\"https://suffolk.academia.edu/DmitryZinoviev\">Academia.edu</a>\\n<li><a href=\"https://www.researchgate.net/profile/Dmitry_Zinoviev\">ResearchGate</a>\\n</ul>\\n</body>\\n\\n</html>\\n'\n"
     ]
    }
   ],
   "source": [
    "#unit 9 => https://wikidocs.net/10397\n",
    "import urllib.request\n",
    "try:\n",
    "    doc=urllib.request.urlopen(\"http://www.networksciencelab.com\")\n",
    "    html=doc.read()\n",
    "    print(html)\n",
    "except:\n",
    "    print('could not open')"
   ]
  },
  {
   "cell_type": "code",
   "execution_count": 9,
   "metadata": {},
   "outputs": [
    {
     "name": "stdout",
     "output_type": "stream",
     "text": [
      "could not open\n"
     ]
    }
   ],
   "source": [
    "import urllib.parse\n",
    "URL = \"http://networksciencelab.com/index.html;param?foo=bar#content\"\n",
    "try:\n",
    "    doc=urllib.request.urlopen(\"http://networksciencelab.com/index.html;param?foo=bar#content\")\n",
    "    html=doc.read()\n",
    "    print(html)\n",
    "except:\n",
    "    print('could not open')\n",
    "#urllib.parse.urlparse(URL)\n",
    "#---------------------------------------"
   ]
  },
  {
   "cell_type": "code",
   "execution_count": 10,
   "metadata": {},
   "outputs": [
    {
     "name": "stdout",
     "output_type": "stream",
     "text": [
      "*re split=> ['Hello', '', 'world', '']\n",
      "*re split=> ['Hello', 'world', '']\n",
      "*mo=> <re.Match object; span=(0, 3), match='067'>\n",
      "*mo group=> 067\n",
      "*re match=> None\n",
      "*re search=> <re.Match object; span=(8, 11), match='Has'>\n",
      "*re search=> <re.Match object; span=(9, 11), match='as'>\n",
      "*re findall=> ['Has', 'at', 'least', 'one', 'letter']\n",
      "*re sub=> fruit box fruit tree\n"
     ]
    }
   ],
   "source": [
    "# 정규식에 관해 읽어보기 => https://wikidocs.net/4308\n",
    "import re\n",
    "print('*re split=>', re.split(r\"\\W\", \"Hello, world!\"))\n",
    "#---------------------------------------\n",
    "# 인근에 위치한 비문자(non-letter)를 합친다.\n",
    "print('*re split=>', re.split(r\"\\W+\", \"Hello, world!\"))\n",
    "#---------------------------------------\n",
    "mo = re.match(r\"\\d+\", \"067 Starts with a number\")\n",
    "print('*mo=>', mo)\n",
    "print('*mo group=>', mo.group())\n",
    "#---------------------------------------\n",
    "print('*re match=>', re.match(r\"\\d+\", \"Does not start with a number\"))\n",
    "#---------------------------------------\n",
    "print('*re search=>', re.search(r\"[a-z]+\", \"0010010 Has at least one 010 letter 0010010\", re.I))\n",
    "#---------------------------------------\n",
    "# 대소문자를 구분하는 버전\n",
    "print('*re search=>', re.search(r\"[a-z]+\", \"0010010 Has at least one 010 letter 0010010\"))\n",
    "#---------------------------------------\n",
    "print('*re findall=>', re.findall(r\"[a-z]+\", \"0010010 Has at least one 010 letter 0010010\", re.I))\n",
    "#---------------------------------------\n",
    "print('*re sub=>', re.sub('apple|orange', 'fruit', 'apple box orange tree'))\n",
    "#---------------------------------------"
   ]
  },
  {
   "cell_type": "code",
   "execution_count": 11,
   "metadata": {},
   "outputs": [
    {
     "data": {
      "text/plain": [
       "['test.txt']"
      ]
     },
     "execution_count": 11,
     "metadata": {},
     "output_type": "execute_result"
    }
   ],
   "source": [
    "import glob # 폴더에서 파일 이름 찾기\n",
    "glob.glob(\"*.txt\")"
   ]
  },
  {
   "cell_type": "code",
   "execution_count": null,
   "metadata": {},
   "outputs": [],
   "source": []
  }
 ],
 "metadata": {
  "kernelspec": {
   "display_name": "Python 3",
   "language": "python",
   "name": "python3"
  },
  "language_info": {
   "codemirror_mode": {
    "name": "ipython",
    "version": 3
   },
   "file_extension": ".py",
   "mimetype": "text/x-python",
   "name": "python",
   "nbconvert_exporter": "python",
   "pygments_lexer": "ipython3",
   "version": "3.7.4"
  }
 },
 "nbformat": 4,
 "nbformat_minor": 2
}
